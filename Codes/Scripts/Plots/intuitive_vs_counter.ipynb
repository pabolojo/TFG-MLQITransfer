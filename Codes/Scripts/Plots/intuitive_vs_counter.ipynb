{
 "cells": [
  {
   "cell_type": "code",
   "execution_count": 79,
   "metadata": {},
   "outputs": [],
   "source": [
    "import sys\n",
    "import numpy as np\n",
    "import qutip as qt\n",
    "import pickle\n",
    "\n",
    "sys.path.append('../../')\n",
    "from Plots import plot_populations, plot_pulses\n",
    "from QEnvs.QEnvWave import QEnvWave"
   ]
  },
  {
   "cell_type": "code",
   "execution_count": 80,
   "metadata": {},
   "outputs": [],
   "source": [
    "num_qubits = 3\n",
    "time_max = 10\n",
    "num_steps = 50"
   ]
  },
  {
   "cell_type": "code",
   "execution_count": 81,
   "metadata": {},
   "outputs": [],
   "source": [
    "def dummy_cost_function(env):\n",
    "    return 0.0"
   ]
  },
  {
   "cell_type": "code",
   "execution_count": 82,
   "metadata": {},
   "outputs": [],
   "source": [
    "env = QEnvWave(num_qubits=num_qubits,\n",
    "                   time_max=time_max,\n",
    "                   num_steps=num_steps,\n",
    "                   cost_function=dummy_cost_function)"
   ]
  },
  {
   "cell_type": "code",
   "execution_count": 83,
   "metadata": {},
   "outputs": [],
   "source": [
    "pulses_intuitive = np.vstack([np.linspace(1, 0, num_steps), np.linspace(0, 1, num_steps)]).T\n",
    "pulses_counter = np.vstack([np.linspace(0, 1, num_steps), np.linspace(1, 0, num_steps)]).T"
   ]
  },
  {
   "cell_type": "code",
   "execution_count": 84,
   "metadata": {},
   "outputs": [],
   "source": [
    "def calculate_populations(env, pulse):\n",
    "    times = env.times\n",
    "    populations = []\n",
    "    for state in env.run_qevolution(pulse):\n",
    "        populations.append(np.abs(state))\n",
    "    return times, np.array(populations).reshape((num_steps + 1, num_qubits))"
   ]
  },
  {
   "cell_type": "code",
   "execution_count": 85,
   "metadata": {},
   "outputs": [],
   "source": [
    "times, populations_intuitive = calculate_populations(env, pulses_intuitive)\n",
    "times, populations_counter = calculate_populations(env, pulses_counter)"
   ]
  },
  {
   "cell_type": "code",
   "execution_count": 86,
   "metadata": {},
   "outputs": [],
   "source": [
    "times = [times, times]\n",
    "pulses = [pulses_intuitive, pulses_counter]\n",
    "populations = [populations_intuitive, populations_counter]\n",
    "labels = ['Intuitive', 'Counter-intuitive']\n",
    "results = [labels, times, pulses, populations]\n",
    "with open('Data/intuitive_vs_counter.pkl', 'wb') as f:\n",
    "    pickle.dump(results, f)"
   ]
  }
 ],
 "metadata": {
  "kernelspec": {
   "display_name": "quantum",
   "language": "python",
   "name": "python3"
  },
  "language_info": {
   "codemirror_mode": {
    "name": "ipython",
    "version": 3
   },
   "file_extension": ".py",
   "mimetype": "text/x-python",
   "name": "python",
   "nbconvert_exporter": "python",
   "pygments_lexer": "ipython3",
   "version": "3.9.13"
  },
  "orig_nbformat": 4
 },
 "nbformat": 4,
 "nbformat_minor": 2
}

{
 "cells": [
  {
   "cell_type": "code",
   "execution_count": 1,
   "metadata": {
    "execution": {
     "iopub.execute_input": "2023-03-10T09:06:32.491803Z",
     "iopub.status.busy": "2023-03-10T09:06:32.491081Z",
     "iopub.status.idle": "2023-03-10T09:06:33.478469Z",
     "shell.execute_reply": "2023-03-10T09:06:33.478128Z",
     "shell.execute_reply.started": "2023-03-10T09:06:32.491761Z"
    }
   },
   "outputs": [
    {
     "name": "stderr",
     "output_type": "stream",
     "text": [
      "/home/pabolojo/miniconda3/envs/quantum/lib/python3.9/site-packages/tqdm/auto.py:21: TqdmWarning: IProgress not found. Please update jupyter and ipywidgets. See https://ipywidgets.readthedocs.io/en/stable/user_install.html\n",
      "  from .autonotebook import tqdm as notebook_tqdm\n"
     ]
    }
   ],
   "source": [
    "import matplotlib.pyplot as plt\n",
    "import numpy as np\n",
    "from qutip import Qobj, basis, mesolve, ket2dm, Options\n",
    "from joblib import Parallel, delayed, parallel\n",
    "from tqdm.auto import tqdm\n",
    "import contextlib"
   ]
  },
  {
   "cell_type": "code",
   "execution_count": 16,
   "metadata": {
    "execution": {
     "iopub.execute_input": "2023-03-10T09:06:33.482208Z",
     "iopub.status.busy": "2023-03-10T09:06:33.482117Z",
     "iopub.status.idle": "2023-03-10T09:06:33.484817Z",
     "shell.execute_reply": "2023-03-10T09:06:33.484573Z",
     "shell.execute_reply.started": "2023-03-10T09:06:33.482199Z"
    },
    "tags": []
   },
   "outputs": [],
   "source": [
    "def omega(times, tau, sigma, omega0, sign=1):\n",
    "    tf = times[-1]\n",
    "    return omega0 * np.exp(-(times - tf/2 - sign*tau)**2 / (sigma**2))\n",
    "\n",
    "def omega_12g(times, tau, sigma, omega0):\n",
    "    return omega(times, tau, sigma, omega0)\n",
    "\n",
    "def omega_23g(times, tau, sigma, omega0):\n",
    "    return omega(times, tau, sigma, omega0, -1)\n",
    "\n",
    "def CTAP_pulses(time_max, tau, sigma, omega0):\n",
    "    if time_max == 0:\n",
    "        return np.zeros(1000), np.zeros(1000)\n",
    "\n",
    "    times = np.linspace(0, time_max, 1000)\n",
    "\n",
    "    omega12 = omega_12g(times, tau, sigma, omega0)\n",
    "    omega23 = omega_23g(times, tau, sigma, omega0)\n",
    "\n",
    "    return omega12, omega23"
   ]
  },
  {
   "cell_type": "code",
   "execution_count": 17,
   "metadata": {},
   "outputs": [],
   "source": [
    "def auxiliar_chi(times):\n",
    "    tf = times[-1]\n",
    "    t_prime = times / tf\n",
    "    \n",
    "    return np.pi * t_prime / 2 - 1 / 3 * np.sin(2 * np.pi * t_prime) + 1 / 24 * np.sin(4 * np.pi * t_prime)\n",
    "\n",
    "def auxiliar_eta(d_chi, alpha_0):\n",
    "    return np.arctan(d_chi / alpha_0)\n",
    "\n",
    "def STA_pulses(time_max, alpha_0):\n",
    "    \"\"\"STA pulses based on IE and a Rutinger 1-3 trajectory.\"\"\"\n",
    "    if time_max == 0:\n",
    "        return np.zeros(1000), np.zeros(1000)\n",
    "    \n",
    "    times = np.linspace(0, time_max, 1000)\n",
    "    chi = auxiliar_chi(times)\n",
    "    d_chi = np.gradient(chi, times)\n",
    "    \n",
    "    eta = auxiliar_eta(d_chi, alpha_0)\n",
    "    d_eta = np.gradient(eta, times)\n",
    "    \n",
    "    Omega_12 = np.cos(chi) * d_eta + np.sin(chi) * d_chi / (np.tan(eta) + 1e-15)\n",
    "    Omega_23 = -np.sin(chi) * d_eta + np.cos(chi) * d_chi / (np.tan(eta) + 1e-15)\n",
    "    \n",
    "    return Omega_12, Omega_23"
   ]
  },
  {
   "cell_type": "code",
   "execution_count": 18,
   "metadata": {},
   "outputs": [],
   "source": [
    "def hamiltonian_factory(Delta, Omega12, Omega23):\n",
    "    \"\"\"Hamiltonian for a three level system in a Lambda-configuration, with two-photon detuning equals to 0.\"\"\"\n",
    "    H = np.zeros((3, 3), dtype=complex)\n",
    "    \n",
    "    H[0, 0:] = [0, Omega12, 0]\n",
    "    H[1, 1:] = [Delta, Omega23]\n",
    "    H[2, 2:] = [0]\n",
    "    \n",
    "    H += H.T.conjugate() - np.diag(np.diag(H))\n",
    "    return Qobj(H)"
   ]
  },
  {
   "cell_type": "code",
   "execution_count": 19,
   "metadata": {},
   "outputs": [],
   "source": [
    "def solve_dynamics(time_max, Gamma, Delta, pulse1, pulse2):\n",
    "    \"\"\"Solve the dynamics under CTAP and pure dephasing.\"\"\"\n",
    "    psi_0 = basis(3, 0)\n",
    "    times = np.linspace(0, time_max, 1000)\n",
    "    \n",
    "    if time_max == 0:\n",
    "        return 0, np.array(ket2dm(psi_0)).reshape((1, 3, 3))\n",
    "    \n",
    "    c_ops = [np.array([1, -1, 0]) * np.sqrt(Gamma / 2), np.array([1, 1, -2]) * np.sqrt(Gamma / 6)]\n",
    "    c_ops = [Qobj(np.diag(op)) for op in c_ops]\n",
    "\n",
    "    H_0 = hamiltonian_factory(Delta, 0, 0)\n",
    "    H_12 = [hamiltonian_factory(0, 1, 0), pulse1]\n",
    "    H_23 = [hamiltonian_factory(0, 0, 1), pulse2]\n",
    "    H_total = [H_0, H_12, H_23]\n",
    "    \n",
    "    #opts = Options(nsteps=time_max*50000)\n",
    "\n",
    "    rho_t = mesolve(H_total, psi_0, times, c_ops=c_ops).states\n",
    "    \n",
    "    return times, np.array(rho_t)\n",
    "\n",
    "def compute_populations(time_max, Gamma, Delta, pulses):\n",
    "    \"\"\"Obtain the population for each level after a CTAP.\"\"\"\n",
    "    time, rho_t = solve_dynamics(time_max, Gamma, Delta, pulses[0], pulses[1])\n",
    "    populations = np.diagonal(rho_t, axis1=1, axis2=2).real\n",
    "    return populations[-1]"
   ]
  },
  {
   "cell_type": "code",
   "execution_count": 20,
   "metadata": {},
   "outputs": [],
   "source": [
    "@contextlib.contextmanager\n",
    "def tqdm_joblib(tqdm_object):\n",
    "    \"\"\"Context manager to patch joblib to report into tqdm progress bar.\"\"\"\n",
    "    class TqdmBatchCompletionCallback(parallel.BatchCompletionCallBack):\n",
    "        def __call__(self, *args, **kwargs):\n",
    "            tqdm_object.update(n=self.batch_size)\n",
    "            return super().__call__(*args, **kwargs)\n",
    "\n",
    "    old_batch_callback = parallel.BatchCompletionCallBack\n",
    "    parallel.BatchCompletionCallBack = TqdmBatchCompletionCallback\n",
    "    try:\n",
    "        yield tqdm_object\n",
    "    finally:\n",
    "        parallel.BatchCompletionCallBack = old_batch_callback\n",
    "        tqdm_object.close()"
   ]
  },
  {
   "cell_type": "code",
   "execution_count": 7,
   "metadata": {},
   "outputs": [],
   "source": [
    "Delta = 0\n",
    "Omega_max = 6"
   ]
  },
  {
   "cell_type": "code",
   "execution_count": 29,
   "metadata": {},
   "outputs": [],
   "source": [
    "n_tmax = 50\n",
    "n_Gamma = 50\n",
    "n_total = n_tmax * n_Gamma\n",
    "\n",
    "Gamma_vec_com = np.linspace(0, 10, n_Gamma) * Omega_max / (2 * np.pi)"
   ]
  },
  {
   "cell_type": "code",
   "execution_count": 30,
   "metadata": {},
   "outputs": [],
   "source": [
    "# CTAP\n",
    "\n",
    "t_max = 120\n",
    "\n",
    "tmax_vec = np.linspace(0, t_max, n_tmax) * 2 * np.pi / Omega_max\n",
    "\n",
    "tmax_vec_CTAP, Gamma_vec = [x.flatten() for x in np.meshgrid(tmax_vec, Gamma_vec_com)]"
   ]
  },
  {
   "cell_type": "code",
   "execution_count": 31,
   "metadata": {},
   "outputs": [
    {
     "name": "stderr",
     "output_type": "stream",
     "text": [
      "Computing transfer: 100%|██████████| 2500/2500 [00:26<00:00, 94.31it/s] \n"
     ]
    }
   ],
   "source": [
    "# Solve in paralel the CTAP transfer\n",
    "\n",
    "with tqdm_joblib(tqdm(range(n_total), desc=\"Computing transfer\")) as pbar:\n",
    "    CTAP_populations = Parallel(n_jobs=-1)(delayed(compute_populations)(tmax_vec_CTAP[j], Gamma_vec[j],\n",
    "                                                                   Delta, CTAP_pulses(tmax_vec_CTAP[j], tmax_vec_CTAP[j]/6, tmax_vec_CTAP[j]/6, Omega_max)) for j in range(n_total))\n",
    "\n",
    "CTAP_populations = np.array(CTAP_populations).reshape(n_Gamma, n_tmax, 3)"
   ]
  },
  {
   "cell_type": "code",
   "execution_count": 33,
   "metadata": {},
   "outputs": [],
   "source": [
    "# STA\n",
    "\n",
    "alpha_0 = 40\n",
    "t_max = 8\n",
    "\n",
    "tmax_vec = np.linspace(0, t_max, n_tmax) * 2 * np.pi / Omega_max\n",
    "\n",
    "tmax_vec_STA, Gamma_vec = [x.flatten() for x in np.meshgrid(tmax_vec, Gamma_vec_com)]"
   ]
  },
  {
   "cell_type": "code",
   "execution_count": 34,
   "metadata": {},
   "outputs": [
    {
     "name": "stderr",
     "output_type": "stream",
     "text": [
      "Computing transfer: 100%|██████████| 2500/2500 [00:25<00:00, 97.78it/s] \n"
     ]
    }
   ],
   "source": [
    "# Solve in paralel the STA transfer\n",
    "\n",
    "with tqdm_joblib(tqdm(range(n_total), desc=\"Computing transfer\")) as pbar:\n",
    "    STA_populations = Parallel(n_jobs=-1)(delayed(compute_populations)(tmax_vec_STA[j], Gamma_vec[j],\n",
    "                                                                   Delta, STA_pulses(tmax_vec_STA[j], alpha_0)) for j in range(n_total))\n",
    "    \n",
    "STA_populations = np.array(STA_populations).reshape(n_Gamma, n_tmax, 3)"
   ]
  },
  {
   "cell_type": "code",
   "execution_count": 35,
   "metadata": {
    "execution": {
     "iopub.execute_input": "2023-03-10T09:07:33.060093Z",
     "iopub.status.busy": "2023-03-10T09:07:33.058929Z",
     "iopub.status.idle": "2023-03-10T09:07:33.182220Z",
     "shell.execute_reply": "2023-03-10T09:07:33.181679Z",
     "shell.execute_reply.started": "2023-03-10T09:07:33.060019Z"
    },
    "tags": []
   },
   "outputs": [
    {
     "data": {
      "image/png": "[encoded data removed]",
      "text/plain": [
       "<Figure size 1440x720 with 4 Axes>"
      ]
     },
     "metadata": {
      "needs_background": "light"
     },
     "output_type": "display_data"
    }
   ],
   "source": [
    "# Plot the results\n",
    "\n",
    "fig, axs = plt.subplots(1, 2, figsize=(20,10))\n",
    "\n",
    "im = axs[0].imshow(CTAP_populations[:, :, 2], origin='lower', aspect='auto', vmin=0, vmax=1, cmap='jet',\n",
    "                    extent=[min(tmax_vec_CTAP) / (2*np.pi / Omega_max), max(tmax_vec_CTAP) / (2*np.pi / Omega_max),\n",
    "                            min(Gamma_vec) / (Omega_max / (2 * np.pi)), max(Gamma_vec) / (Omega_max / (2 * np.pi))],\n",
    "                    interpolation='None')\n",
    "\n",
    "cbar = fig.colorbar(im, ax=axs[0])\n",
    "cbar.ax.set_ylabel(r'$F}$')\n",
    "\n",
    "im = axs[1].imshow(STA_populations[:, :, 2], origin='lower', aspect='auto', vmin=0, vmax=1, cmap='jet',\n",
    "                    extent=[min(tmax_vec_STA) / (2*np.pi / Omega_max), max(tmax_vec_STA) / (2*np.pi / Omega_max),\n",
    "                            min(Gamma_vec) / (Omega_max / (2 * np.pi)), max(Gamma_vec) / (Omega_max / (2 * np.pi))],\n",
    "                    interpolation='None')\n",
    "\n",
    "cbar = fig.colorbar(im, ax=axs[1])\n",
    "cbar.ax.set_ylabel(r'$F$')\n",
    "\n",
    "[ax.set_xlabel(r'$t_f\\;(2\\pi/\\Omega_0)$') for ax in axs];\n",
    "[ax.set_ylabel(r'$\\gamma$') for ax in axs];"
   ]
  },
  {
   "cell_type": "code",
   "execution_count": null,
   "metadata": {},
   "outputs": [],
   "source": []
  }
 ],
 "metadata": {
  "kernelspec": {
   "display_name": "Python 3 (ipykernel)",
   "language": "python",
   "name": "python3"
  },
  "language_info": {
   "codemirror_mode": {
    "name": "ipython",
    "version": 3
   },
   "file_extension": ".py",
   "mimetype": "text/x-python",
   "name": "python",
   "nbconvert_exporter": "python",
   "pygments_lexer": "ipython3",
   "version": "3.9.13"
  },
  "vscode": {
   "interpreter": {
    "hash": "3e6cc29bc244289afc3c8c952e45f7150cabed6ad5a7b83548e5251ea75da467"
   }
  }
 },
 "nbformat": 4,
 "nbformat_minor": 4
}

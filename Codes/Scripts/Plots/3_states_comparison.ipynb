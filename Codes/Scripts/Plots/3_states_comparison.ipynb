{
 "cells": [
  {
   "cell_type": "code",
   "execution_count": 1,
   "metadata": {},
   "outputs": [
    {
     "name": "stderr",
     "output_type": "stream",
     "text": [
      "2023-06-16 19:10:36.060112: I tensorflow/core/platform/cpu_feature_guard.cc:182] This TensorFlow binary is optimized to use available CPU instructions in performance-critical operations.\n",
      "To enable the following instructions: AVX2 FMA, in other operations, rebuild TensorFlow with the appropriate compiler flags.\n",
      "2023-06-16 19:10:36.596297: W tensorflow/compiler/tf2tensorrt/utils/py_utils.cc:38] TF-TRT Warning: Could not find TensorRT\n"
     ]
    }
   ],
   "source": [
    "import numpy as np\n",
    "from matplotlib import pyplot as plt\n",
    "import pickle\n",
    "\n",
    "import sys\n",
    "sys.path.append('../../')\n",
    "from Pulses import STA_pulses\n",
    "from QEnvs.QEnvWave import QEnvWave"
   ]
  },
  {
   "cell_type": "code",
   "execution_count": 2,
   "metadata": {},
   "outputs": [],
   "source": [
    "episode_3_sta = np.load(\"Data/3/3_wpid/eval_best_episode.npy\", allow_pickle=True)\n",
    "episode_3_sta[2] = STA_pulses(episode_3_sta[3].shape[0], episode_3_sta[1][-1], episode_3_sta[1].shape[0] - 1, 1.).T\n",
    "\n",
    "#populations_proportional_weights = [0., 0., 1.]\n",
    "episode_3_wp = np.load(\"Data/3/3_wp/eval_best_episode.npy\", allow_pickle=True)\n",
    "\n",
    "#populations_proportional_weights = [-2., -1., 2.]\n",
    "#populations_integral_weights = [0., -1., 0.]\n",
    "#populations_derivative_weights = [0., 0., 30.]\n",
    "episode_3_wpid = np.load(\"Data/3/3_wpid/eval_best_episode.npy\", allow_pickle=True)\n",
    "\n",
    "#decay_factors = [0., 1., 0.]\n",
    "#populations_proportional_weights = [0., 0., 1.]\n",
    "episode_3_me = np.load(\"Data/3/3_me/eval_best_episode.npy\", allow_pickle=True)\n",
    "\n",
    "episodes = [episode_3_sta, episode_3_wp, episode_3_wpid, episode_3_me]\n",
    "episodes_me = [False, False, False, True]\n",
    "episodes_names = [\"Pure - STA\", \"Pure - P\", \"Pure - PID\", \"Mixed - P\"]"
   ]
  },
  {
   "cell_type": "code",
   "execution_count": 3,
   "metadata": {},
   "outputs": [],
   "source": [
    "def dummy_cost_function(env):\n",
    "    return 0.0\n",
    "\n",
    "def calculate_populations(env, pulse):\n",
    "    times = env.times\n",
    "    populations = []\n",
    "    for state in env.run_qevolution(pulse):\n",
    "        populations.append(np.abs(state) ** 2)\n",
    "    return times, np.array(populations)"
   ]
  },
  {
   "cell_type": "code",
   "execution_count": 4,
   "metadata": {},
   "outputs": [],
   "source": [
    "def simulate_episode(episode, me=False):\n",
    "    num_steps = episode[1].shape[0] - 1\n",
    "    time_max = episode[1][-1]\n",
    "    num_qubits = episode[3].shape[0] \n",
    "    if me:\n",
    "        num_qubits = num_qubits - 1\n",
    "        pulses = episode[2][:-1].T\n",
    "    else:\n",
    "        pulses = episode[2].T\n",
    "\n",
    "    env = QEnvWave(num_qubits=num_qubits,\n",
    "                   time_max=time_max,\n",
    "                   num_steps=num_steps - 1,\n",
    "                   cost_function=dummy_cost_function)\n",
    "    times, populations = calculate_populations(env, pulses)\n",
    "    return times, pulses, populations.reshape((num_steps, num_qubits))"
   ]
  },
  {
   "cell_type": "code",
   "execution_count": 5,
   "metadata": {},
   "outputs": [],
   "source": [
    "times = []\n",
    "pulses = []\n",
    "populations = []\n",
    "for episode, me in zip(episodes, episodes_me):\n",
    "    t, p, pop = simulate_episode(episode, me)\n",
    "    times.append(t)\n",
    "    pulses.append(p)\n",
    "    populations.append(pop)"
   ]
  },
  {
   "cell_type": "code",
   "execution_count": 6,
   "metadata": {},
   "outputs": [],
   "source": [
    "# Save\n",
    "results = [episodes_names, times, pulses, populations]\n",
    "with open(\"Data/3_states_comparison.pkl\", \"wb\") as f:\n",
    "    pickle.dump(results, f)"
   ]
  },
  {
   "cell_type": "code",
   "execution_count": null,
   "metadata": {},
   "outputs": [],
   "source": []
  }
 ],
 "metadata": {
  "kernelspec": {
   "display_name": "quantum",
   "language": "python",
   "name": "python3"
  },
  "language_info": {
   "codemirror_mode": {
    "name": "ipython",
    "version": 3
   },
   "file_extension": ".py",
   "mimetype": "text/x-python",
   "name": "python",
   "nbconvert_exporter": "python",
   "pygments_lexer": "ipython3",
   "version": "3.9.13"
  },
  "orig_nbformat": 4
 },
 "nbformat": 4,
 "nbformat_minor": 2
}

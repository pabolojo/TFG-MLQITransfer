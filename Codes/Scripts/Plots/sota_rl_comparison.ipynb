{
 "cells": [
  {
   "cell_type": "code",
   "execution_count": 1,
   "metadata": {},
   "outputs": [
    {
     "name": "stderr",
     "output_type": "stream",
     "text": [
      "2023-06-09 20:58:48.390285: I tensorflow/core/platform/cpu_feature_guard.cc:182] This TensorFlow binary is optimized to use available CPU instructions in performance-critical operations.\n",
      "To enable the following instructions: AVX2 FMA, in other operations, rebuild TensorFlow with the appropriate compiler flags.\n",
      "2023-06-09 20:58:49.031320: W tensorflow/compiler/tf2tensorrt/utils/py_utils.cc:38] TF-TRT Warning: Could not find TensorRT\n"
     ]
    },
    {
     "data": {
      "application/vnd.jupyter.widget-view+json": {
       "model_id": "f42554aa9d2c4bbdaffb68aede44f4fd",
       "version_major": 2,
       "version_minor": 0
      },
      "text/plain": [
       "FileChooser(path='/home/pabolojo/Escritorio/Curso_5/TFG/MLQTransfer/Codes/logs', filename='', title='', show_h…"
      ]
     },
     "metadata": {},
     "output_type": "display_data"
    }
   ],
   "source": [
    "import sys\n",
    "import numpy as np\n",
    "from ipyfilechooser import FileChooser\n",
    "from matplotlib import pyplot as plt\n",
    "\n",
    "sys.path.append('../../')\n",
    "from Pulses import STA_pulses\n",
    "from QEnvs.QEnvWave import QEnvWave\n",
    "\n",
    "fc = FileChooser('../../logs/')\n",
    "display(fc)"
   ]
  },
  {
   "cell_type": "code",
   "execution_count": 41,
   "metadata": {},
   "outputs": [],
   "source": [
    "episode = np.load(fc.selected, allow_pickle=True)\n",
    "\n",
    "times = episode[1][:-1]\n",
    "pulses = episode[2]\n",
    "populations = episode[3][:, :-1]"
   ]
  },
  {
   "cell_type": "code",
   "execution_count": 42,
   "metadata": {},
   "outputs": [],
   "source": [
    "num_qubits = pulses.shape[0] + 1\n",
    "time_max = times[-1]\n",
    "num_steps = len(times)\n",
    "omega_max = np.max(pulses)\n",
    "omega_s = 0.\n",
    "if num_qubits > 3:\n",
    "    omega_s = np.max(pulses[1:-1])"
   ]
  },
  {
   "cell_type": "code",
   "execution_count": 43,
   "metadata": {},
   "outputs": [],
   "source": [
    "pulses_sta = STA_pulses(num_qubits, time_max, num_steps, omega_max)"
   ]
  },
  {
   "cell_type": "code",
   "execution_count": 44,
   "metadata": {},
   "outputs": [],
   "source": [
    "def dummy_cost_function(env):\n",
    "    return 0.0"
   ]
  },
  {
   "cell_type": "code",
   "execution_count": 45,
   "metadata": {},
   "outputs": [],
   "source": [
    "env = QEnvWave(num_qubits=num_qubits,\n",
    "                   time_max=time_max,\n",
    "                   num_steps=num_steps - 1,\n",
    "                   cost_function=dummy_cost_function,\n",
    "                   omega_max=omega_max)"
   ]
  },
  {
   "cell_type": "code",
   "execution_count": 46,
   "metadata": {},
   "outputs": [],
   "source": [
    "def calculate_populations(env, pulse):\n",
    "    times = env.times\n",
    "    populations = []\n",
    "    for state in env.run_qevolution(pulse):\n",
    "        populations.append(np.abs(state))\n",
    "    return times, np.array(populations).reshape((num_steps, num_qubits))"
   ]
  },
  {
   "cell_type": "code",
   "execution_count": 47,
   "metadata": {},
   "outputs": [],
   "source": [
    "times_sta, populations_sta = calculate_populations(env, pulses_sta)"
   ]
  },
  {
   "cell_type": "code",
   "execution_count": 16,
   "metadata": {},
   "outputs": [
    {
     "name": "stderr",
     "output_type": "stream",
     "text": [
      "/tmp/ipykernel_33072/2500396333.py:4: VisibleDeprecationWarning: Creating an ndarray from ragged nested sequences (which is a list-or-tuple of lists-or-tuples-or ndarrays with different lengths or shapes) is deprecated. If you meant to do this, you must specify 'dtype=object' when creating the ndarray.\n",
      "  save = np.array([times, pulses, pulses_sta, populations, populations_sta])\n"
     ]
    }
   ],
   "source": [
    "# Save results\n",
    "file_name = fc.selected.split('/')[-1].split('.')[0]\n",
    "pulses = pulses.T\n",
    "save = np.array([times, pulses, pulses_sta, populations, populations_sta])\n",
    "np.save(\"Data/sota_rl_comparison_{}.npy\".format(file_name), save)"
   ]
  },
  {
   "cell_type": "code",
   "execution_count": null,
   "metadata": {},
   "outputs": [],
   "source": []
  }
 ],
 "metadata": {
  "kernelspec": {
   "display_name": "quantum",
   "language": "python",
   "name": "python3"
  },
  "language_info": {
   "codemirror_mode": {
    "name": "ipython",
    "version": 3
   },
   "file_extension": ".py",
   "mimetype": "text/x-python",
   "name": "python",
   "nbconvert_exporter": "python",
   "pygments_lexer": "ipython3",
   "version": "3.9.13"
  },
  "orig_nbformat": 4
 },
 "nbformat": 4,
 "nbformat_minor": 2
}

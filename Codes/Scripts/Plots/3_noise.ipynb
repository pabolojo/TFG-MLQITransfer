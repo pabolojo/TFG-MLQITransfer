{
 "cells": [
  {
   "cell_type": "code",
   "execution_count": 1,
   "metadata": {},
   "outputs": [
    {
     "name": "stderr",
     "output_type": "stream",
     "text": [
      "2023-06-20 18:38:36.518853: I tensorflow/core/platform/cpu_feature_guard.cc:182] This TensorFlow binary is optimized to use available CPU instructions in performance-critical operations.\n",
      "To enable the following instructions: AVX2 FMA, in other operations, rebuild TensorFlow with the appropriate compiler flags.\n",
      "2023-06-20 18:38:37.185154: W tensorflow/compiler/tf2tensorrt/utils/py_utils.cc:38] TF-TRT Warning: Could not find TensorRT\n"
     ]
    }
   ],
   "source": [
    "import numpy as np\n",
    "from matplotlib import pyplot as plt\n",
    "import pickle\n",
    "\n",
    "import sys\n",
    "sys.path.append('../../')\n",
    "from Pulses import STA_pulses\n",
    "from QEnvs.QEnvWave import QEnvWave\n",
    "from Noises import Noise\n",
    "from Plots import plot_noise_effect"
   ]
  },
  {
   "cell_type": "code",
   "execution_count": 2,
   "metadata": {},
   "outputs": [],
   "source": [
    "episode = np.load(\"Data/3/3_n_deltas/eval_best_episode.npy\", allow_pickle=True)\n",
    "me = False\n",
    "noise_type = \"gaussian\"\n",
    "noise_max_percent = 0.1\n",
    "percentage_points = 1"
   ]
  },
  {
   "cell_type": "code",
   "execution_count": 3,
   "metadata": {},
   "outputs": [],
   "source": [
    "num_steps = episode[1].shape[0] - 1\n",
    "time_max = episode[1][-1]\n",
    "num_qubits = episode[3].shape[0] \n",
    "if me:\n",
    "    num_qubits = num_qubits - 1\n",
    "    pulses = episode[2][:-1].T\n",
    "else:\n",
    "    pulses = episode[2].T"
   ]
  },
  {
   "cell_type": "code",
   "execution_count": 4,
   "metadata": {},
   "outputs": [],
   "source": [
    "def dummy_cost_function(env):\n",
    "    return 0.0"
   ]
  },
  {
   "cell_type": "code",
   "execution_count": 5,
   "metadata": {},
   "outputs": [],
   "source": [
    "noise = Noise(noise_type, 0.)\n",
    "env = QEnvWave(num_qubits=num_qubits,\n",
    "                   time_max=time_max,\n",
    "                   num_steps=num_steps,\n",
    "                   cost_function=dummy_cost_function,\n",
    "                   noise=noise)"
   ]
  },
  {
   "cell_type": "code",
   "execution_count": 6,
   "metadata": {},
   "outputs": [],
   "source": [
    "def standard_deviation_fidelities(env, pulse, number_of_runs):\n",
    "    fidelities = np.zeros(number_of_runs)\n",
    "    for i in range(number_of_runs):\n",
    "        fidelities[i] = env._quantum2rlstate(env.run_qevolution(pulse)).reshape((num_steps + 1, num_qubits))[-1,-1]\n",
    "    return np.std(fidelities)\n",
    "\n",
    "def number_of_runs(env, pulse, omega_percentage=0.005, number_of_runs=10):\n",
    "    omeag_last = 0\n",
    "    omega = standard_deviation_fidelities(env, pulse, number_of_runs)\n",
    "    while omega - omeag_last > omega_percentage:\n",
    "        number_of_runs *= 2\n",
    "        omeag_last = omega\n",
    "        omega = standard_deviation_fidelities(env, pulse, number_of_runs)\n",
    "    return number_of_runs"
   ]
  },
  {
   "cell_type": "code",
   "execution_count": 7,
   "metadata": {},
   "outputs": [],
   "source": [
    "def noise_percentage_effect(env, pulse, noise_max_percent):\n",
    "    noise_percentages = np.linspace(0, noise_max_percent, percentage_points)\n",
    "    env.noise.percentage = noise_max_percent\n",
    "    print(\"Calculating number of runs\")\n",
    "    num_runs = number_of_runs(env, pulse, omega_percentage=0.001)\n",
    "    results = np.zeros((len(noise_percentages), 2))\n",
    "    print(\"Starting probing noises\")\n",
    "    for i, noise_percentage in enumerate(noise_percentages):\n",
    "        env.noise.percentage = noise_percentage\n",
    "        fidelities = np.zeros(num_runs)\n",
    "        for j in range(num_runs):\n",
    "            fidelities[j] = np.max(env._quantum2rlstate(env.run_qevolution(pulse)).reshape((num_steps + 1, num_qubits)).T[-1])\n",
    "        results[i, 0] = np.mean(fidelities)\n",
    "        results[i, 1] = np.std(fidelities)\n",
    "    return results, noise_percentages"
   ]
  },
  {
   "cell_type": "code",
   "execution_count": 8,
   "metadata": {},
   "outputs": [
    {
     "name": "stdout",
     "output_type": "stream",
     "text": [
      "Calculating number of runs\n",
      "Starting probing noises\n",
      "Noise percentage:  0.0\n",
      "10.2032\n",
      "0.9775252938270569\n",
      "10.2032\n",
      "0.9775252938270569\n",
      "10.2032\n",
      "0.9775252938270569\n",
      "10.2032\n",
      "0.9775252938270569\n",
      "10.2032\n",
      "0.9775252938270569\n",
      "10.2032\n",
      "0.9775252938270569\n",
      "10.2032\n",
      "0.9775252938270569\n",
      "10.2032\n",
      "0.9775252938270569\n",
      "10.2032\n",
      "0.9775252938270569\n",
      "10.2032\n",
      "0.9775252938270569\n",
      "10.2032\n",
      "0.9775252938270569\n",
      "10.2032\n",
      "0.9775252938270569\n",
      "10.2032\n",
      "0.9775252938270569\n",
      "10.2032\n",
      "0.9775252938270569\n",
      "10.2032\n",
      "0.9775252938270569\n",
      "10.2032\n",
      "0.9775252938270569\n",
      "10.2032\n",
      "0.9775252938270569\n",
      "10.2032\n",
      "0.9775252938270569\n",
      "10.2032\n",
      "0.9775252938270569\n",
      "10.2032\n",
      "0.9775252938270569\n"
     ]
    }
   ],
   "source": [
    "noise_results, noise_percentages = noise_percentage_effect(env, pulses, noise_max_percent)"
   ]
  },
  {
   "cell_type": "code",
   "execution_count": null,
   "metadata": {},
   "outputs": [],
   "source": [
    "# Save results\n",
    "results = [noise_results, noise_percentages]\n",
    "with open(\"Data/3_noise_deltas_rl.pkl\", \"wb\") as f:\n",
    "    pickle.dump(results, f)"
   ]
  },
  {
   "cell_type": "code",
   "execution_count": null,
   "metadata": {},
   "outputs": [],
   "source": []
  }
 ],
 "metadata": {
  "kernelspec": {
   "display_name": "quantum",
   "language": "python",
   "name": "python3"
  },
  "language_info": {
   "codemirror_mode": {
    "name": "ipython",
    "version": 3
   },
   "file_extension": ".py",
   "mimetype": "text/x-python",
   "name": "python",
   "nbconvert_exporter": "python",
   "pygments_lexer": "ipython3",
   "version": "3.9.13"
  },
  "orig_nbformat": 4
 },
 "nbformat": 4,
 "nbformat_minor": 2
}

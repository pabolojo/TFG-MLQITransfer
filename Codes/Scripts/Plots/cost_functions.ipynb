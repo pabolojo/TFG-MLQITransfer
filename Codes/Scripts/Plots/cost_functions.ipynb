{
 "cells": [
  {
   "cell_type": "code",
   "execution_count": 89,
   "metadata": {},
   "outputs": [
    {
     "name": "stdout",
     "output_type": "stream",
     "text": [
      "The autoreload extension is already loaded. To reload it, use:\n",
      "  %reload_ext autoreload\n"
     ]
    }
   ],
   "source": [
    "import sys\n",
    "import numpy as np\n",
    "import qutip as qt\n",
    "import matplotlib.pyplot as plt\n",
    "\n",
    "sys.path.append('../../')\n",
    "%load_ext autoreload\n",
    "%autoreload \n",
    "from CostFunctions import CostFunction\n",
    "from QEnvs.QEnvWave import QEnvWave\n",
    "from Pulses import STA_pulses"
   ]
  },
  {
   "cell_type": "code",
   "execution_count": 90,
   "metadata": {},
   "outputs": [],
   "source": [
    "proportional_weights = [-2, -1., 1.] # [gamma, beta, alpha] gamma < beta < alpha\n",
    "integral_weights = [0, -0.02, 0]\n",
    "derivative_weights = [0, 0, 25.]\n",
    "\n",
    "num_qubits = len(proportional_weights)\n",
    "\n",
    "time_max = 20\n",
    "num_steps = 100\n",
    "omega_max = 1\n",
    "initial_state = qt.basis(3, 0)\n",
    "target_state = qt.basis(3, 2)\n",
    "\n",
    "pulses_worst = np.zeros((num_qubits - 1, num_steps))\n",
    "pulses_middle = np.array([np.array([np.ones(num_steps//2), np.zeros(num_steps//2)]).flatten(), np.array([np.zeros(num_steps//2), np.ones(num_steps//2)]).flatten()])*omega_max*num_qubits/time_max\n",
    "pulses_best = STA_pulses(num_qubits, time_max, num_steps, omega_max).T\n",
    "\n",
    "pulses = np.array([pulses_worst, pulses_middle, pulses_best])\n",
    "cases = ['No Transfer', 'Sequential Transfer', 'Optimal Transfer']"
   ]
  },
  {
   "cell_type": "code",
   "execution_count": 91,
   "metadata": {},
   "outputs": [],
   "source": [
    "def solveForCostClass(costClass):\n",
    "    env = QEnvWave(\n",
    "                    num_qubits=num_qubits,\n",
    "                    time_max=time_max,\n",
    "                    num_steps=num_steps,\n",
    "                    cost_function=costClass.costFunction)\n",
    "\n",
    "    costs = []\n",
    "    populations = []\n",
    "    for i in range(len(pulses)):\n",
    "        env._reset()\n",
    "        for j in range(num_steps):\n",
    "            env._step(pulses[i][:, j])\n",
    "        costs.append(env.costs.T[:-1])\n",
    "        populations.append(env.populations.T[:-1])\n",
    "\n",
    "    return costs, populations, env.times"
   ]
  },
  {
   "cell_type": "code",
   "execution_count": 92,
   "metadata": {},
   "outputs": [],
   "source": [
    "P_costClass = CostFunction(\n",
    "    proportional_weights=proportional_weights)\n",
    "P_costs, populations, times = solveForCostClass(P_costClass)\n",
    "\n",
    "PI_costClass = CostFunction(\n",
    "    proportional_weights=proportional_weights,\n",
    "    integral_weights=integral_weights)\n",
    "PI_costs, populations, times = solveForCostClass(PI_costClass)\n",
    "\n",
    "PID_costClass = CostFunction(\n",
    "    proportional_weights=proportional_weights,\n",
    "    integral_weights=integral_weights,\n",
    "    derivative_weights=derivative_weights)\n",
    "PID_costs, populations, times = solveForCostClass(PID_costClass)\n",
    "\n",
    "costs = [P_costs, PI_costs, PID_costs]\n",
    "costs_labels = ['P', 'PI', 'PID']"
   ]
  },
  {
   "cell_type": "code",
   "execution_count": 93,
   "metadata": {},
   "outputs": [
    {
     "name": "stderr",
     "output_type": "stream",
     "text": [
      "/tmp/ipykernel_7203/2403773862.py:3: VisibleDeprecationWarning: Creating an ndarray from ragged nested sequences (which is a list-or-tuple of lists-or-tuples-or ndarrays with different lengths or shapes) is deprecated. If you meant to do this, you must specify 'dtype=object' when creating the ndarray.\n",
      "  save = np.array([np.array(labels), times, cases, pulses, populations, costs_labels, costs])\n"
     ]
    }
   ],
   "source": [
    "# Save results\n",
    "labels = [\"Times\", \"Pulses\", \"Populations\", \"Costs\"]\n",
    "save = np.array([np.array(labels), times, cases, pulses, populations, costs_labels, costs])\n",
    "np.save(\"Data/cost_functions.npy\", save)"
   ]
  }
 ],
 "metadata": {
  "kernelspec": {
   "display_name": "quantum",
   "language": "python",
   "name": "python3"
  },
  "language_info": {
   "codemirror_mode": {
    "name": "ipython",
    "version": 3
   },
   "file_extension": ".py",
   "mimetype": "text/x-python",
   "name": "python",
   "nbconvert_exporter": "python",
   "pygments_lexer": "ipython3",
   "version": "3.9.13"
  },
  "orig_nbformat": 4
 },
 "nbformat": 4,
 "nbformat_minor": 2
}

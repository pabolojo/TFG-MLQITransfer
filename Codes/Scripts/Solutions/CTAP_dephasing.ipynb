{
 "cells": [
  {
   "cell_type": "markdown",
   "id": "b5b63310-2ac8-4984-96ce-f78e6c875ca5",
   "metadata": {},
   "source": [
    "In this notebook we will reproduce the results for the transfer of a single particle in a three level system in a $\\Lambda$-configuration. The particle will be initialized on the left-most level $\\left(|1\\rangle\\right)$, and the target is to transfer it to the right side $\\left(|3\\rangle\\right)$, with minimal population in the intermediate level $\\left(|2\\rangle\\right)$. In this example, all the levels will be in resonance, so that the one-photon and two-photon detuning are zero. The coupling between levels are modified with a Stockes and Pump frequency, which will be the driving parameter.\n",
    "\n",
    "The results to reproduce are those given in [A. Greentree, et. al, PRB **70**, 235317 (2014)](https://link.aps.org/doi/10.1103/PhysRevB.70.235317), Fig. 4."
   ]
  },
  {
   "cell_type": "code",
   "execution_count": 3,
   "id": "960be0db-d043-4852-9f2a-a4db08405658",
   "metadata": {
    "execution": {
     "iopub.execute_input": "2023-03-10T09:28:55.611709Z",
     "iopub.status.busy": "2023-03-10T09:28:55.611132Z",
     "iopub.status.idle": "2023-03-10T09:28:56.339415Z",
     "shell.execute_reply": "2023-03-10T09:28:56.339086Z",
     "shell.execute_reply.started": "2023-03-10T09:28:55.611674Z"
    },
    "tags": []
   },
   "outputs": [],
   "source": [
    "# Import relevant functions and libraries\n",
    "\n",
    "import numpy as np\n",
    "import matplotlib.pyplot as plt\n",
    "import qutip as qt\n",
    "from joblib import Parallel, delayed, parallel\n",
    "from tqdm.auto import tqdm\n",
    "import contextlib"
   ]
  },
  {
   "cell_type": "markdown",
   "id": "42df3db7-93b5-4374-9ae2-a4ae3bd75ce8",
   "metadata": {},
   "source": [
    "The Hamiltonian, written on the basis $\\left\\{|1\\rangle, |2\\rangle, |3\\rangle\\right\\}$ reads as ($\\hbar=1$)\n",
    "\n",
    "$$\n",
    "H(t) = \\left(\n",
    "\\begin{array}{ccc}\n",
    "0 & \\Omega_{12}(t) & 0 \\\\\n",
    "\\Omega_{12}(t) & 0 & \\Omega_{23}(t) \\\\\n",
    "0 & \\Omega{23}(t) & 0\n",
    "\\end{array}\\right).\n",
    "$$"
   ]
  },
  {
   "cell_type": "code",
   "execution_count": 4,
   "id": "7bfad906-743e-4236-929c-77483ab6d717",
   "metadata": {
    "execution": {
     "iopub.execute_input": "2023-03-10T09:28:56.340315Z",
     "iopub.status.busy": "2023-03-10T09:28:56.340158Z",
     "iopub.status.idle": "2023-03-10T09:28:56.343107Z",
     "shell.execute_reply": "2023-03-10T09:28:56.342807Z",
     "shell.execute_reply.started": "2023-03-10T09:28:56.340304Z"
    },
    "tags": []
   },
   "outputs": [],
   "source": [
    "def hamiltonian_factory(Delta, Omega12, Omega23):\n",
    "    \"\"\"Hamiltonian for a three level system in a Lambda-configuration, with two-photon detuning equals to 0.\"\"\"\n",
    "    H = np.zeros((3, 3), dtype=complex)\n",
    "    \n",
    "    H[0, 0:] = [0, Omega12, 0]\n",
    "    H[1, 1:] = [Delta, Omega23]\n",
    "    H[2, 2:] = [0]\n",
    "    \n",
    "    H += H.T.conjugate() - np.diag(np.diag(H))\n",
    "    return qt.Qobj(H)"
   ]
  },
  {
   "cell_type": "markdown",
   "id": "cd501240-9d29-4255-829c-856836fa3ff0",
   "metadata": {},
   "source": [
    "The transfer protocol used here is known as Coherent Transfer by Adiabatic Passage (CTAP), where the driving pulses are modeled as Gaussian shapes with \n",
    "\n",
    "$$\n",
    "\\Omega_{12(23)}(t) = \\Omega^\\max \\exp\\left[-\\left(t-\\frac{t_\\max \\pm \\sigma}{2}\\right)^2/(2\\sigma^2)\\right],\n",
    "$$\n",
    "with a standard deviation fixed at $\\sigma = t_\\max / 8$."
   ]
  },
  {
   "cell_type": "code",
   "execution_count": 5,
   "id": "4c2c360a-19d3-4aee-a4dc-3d20e5dcbe9b",
   "metadata": {
    "execution": {
     "iopub.execute_input": "2023-03-10T09:28:56.384118Z",
     "iopub.status.busy": "2023-03-10T09:28:56.383841Z",
     "iopub.status.idle": "2023-03-10T09:28:56.386862Z",
     "shell.execute_reply": "2023-03-10T09:28:56.386505Z",
     "shell.execute_reply.started": "2023-03-10T09:28:56.384100Z"
    },
    "tags": []
   },
   "outputs": [],
   "source": [
    "def CTAP_pulse(time, Omega_max, time_max, sign=1):\n",
    "    \"\"\"Gaussian pulses for CTAP. sign=1 for the first pulse, sign=-1 for the second one.\"\"\"\n",
    "    sigma = time_max / 8\n",
    "    return Omega_max * np.exp(- (time - time_max / 2 + sign * sigma / 2) ** 2 / (2 * sigma ** 2))"
   ]
  },
  {
   "cell_type": "markdown",
   "id": "7b9326dc-f9e0-4e38-96b7-545047915a83",
   "metadata": {},
   "source": [
    "We include a pure dephasing which acts equally in all coherences. The Lindblad master equation to be solved reads\n",
    "\n",
    "$$\n",
    "\\dot{\\rho}(t) = -i\\left[H(t),\\rho(t)\\right] + \\sum_n\\left[L_n\\rho(t)L_n^\\dagger - \\frac{1}{2} \\left\\{\\rho(t), L_n^\\dagger L_n\\right\\}\\right],\n",
    "$$\n",
    "where $L_n$ are the collapse opertator defined are the diagonal generalized Pauli matrices. For a three level system, these corresponds to the Gell-Mann matrices $\\lambda_3$ and $\\lambda_8$ defined as\n",
    "\n",
    "$$\n",
    "L_1 = \\sqrt{\\Gamma/2}\\left(\n",
    "\\begin{array}{ccc}\n",
    "1 & 0 & 0 \\\\\n",
    "0 & -1 & 0 \\\\\n",
    "0 & 0 & 0\n",
    "\\end{array}\\right), \\quad\n",
    "L_2 = \\sqrt{\\Gamma/6} \\left(\n",
    "\\begin{array}{ccc}\n",
    "1 & 0 & 0 \\\\\n",
    "0 & 1 & 0 \\\\\n",
    "0 & 0 & -2\n",
    "\\end{array}\\right),\n",
    "$$\n",
    "with $\\Gamma$ the dephasing rate. Introducing these two operators in the master equation, we obtain the relation\n",
    "\n",
    "$$\n",
    "\\dot{\\rho}(t) = -i\\left[H(t),\\rho(t)\\right] + \\Gamma \\left[\\rho(t)-\\mathrm{diag}\\left(\\rho(t)\\right)\\right].\n",
    "$$\n",
    "\n",
    "The same result can be obtained with the collapse operators acting on the idividual phases as\n",
    "\n",
    "$$\n",
    "L_1 = \\sqrt{\\Gamma}\\left(\n",
    "\\begin{array}{ccc}\n",
    "1 & 0 & 0 \\\\\n",
    "0 & 0 & 0 \\\\\n",
    "0 & 0 & 0\n",
    "\\end{array}\\right), \\quad\n",
    "L_2 = \\sqrt{\\Gamma}\\left(\n",
    "\\begin{array}{ccc}\n",
    "0 & 0 & 0 \\\\\n",
    "0 & 1 & 0 \\\\\n",
    "0 & 0 & 0\n",
    "\\end{array}\\right), \\quad\n",
    "L_3 = \\sqrt{\\Gamma}\\left(\n",
    "\\begin{array}{ccc}\n",
    "0 & 0 & 0 \\\\\n",
    "0 & 0 & 0 \\\\\n",
    "0 & 0 & 1\n",
    "\\end{array}\\right).\n",
    "$$"
   ]
  },
  {
   "cell_type": "code",
   "execution_count": 6,
   "id": "b582846b-e521-4206-bf81-e6c33bdf2e55",
   "metadata": {
    "execution": {
     "iopub.execute_input": "2023-03-10T09:28:57.050607Z",
     "iopub.status.busy": "2023-03-10T09:28:57.049471Z",
     "iopub.status.idle": "2023-03-10T09:28:57.067250Z",
     "shell.execute_reply": "2023-03-10T09:28:57.066353Z",
     "shell.execute_reply.started": "2023-03-10T09:28:57.050535Z"
    },
    "tags": []
   },
   "outputs": [],
   "source": [
    "def solve_dynamics(time_max, Gamma, Delta, Omega_max):\n",
    "    \"\"\"Solve the dynamics under CTAP and pure dephasing.\"\"\"\n",
    "    psi_0 = qt.basis(3, 0)\n",
    "    time = np.linspace(0, time_max, 1000)\n",
    "    \n",
    "    if time_max == 0:\n",
    "        return 0, np.array(qt.ket2dm(psi_0)).reshape((1, 3, 3))\n",
    "    \n",
    "    c_ops = [np.array([1, -1, 0]) * np.sqrt(Gamma / 2), np.array([1, 1, -2]) * np.sqrt(Gamma / 6)]\n",
    "    c_ops = [qt.Qobj(np.diag(op)) for op in c_ops]\n",
    "\n",
    "    H_0 = hamiltonian_factory(Delta, 0, 0)\n",
    "    H_12 = [hamiltonian_factory(0, 1, 0), CTAP_pulse(time, Omega_max, time_max, sign=-1)]\n",
    "    H_23 = [hamiltonian_factory(0, 0, 1), CTAP_pulse(time, Omega_max, time_max)]\n",
    "    H_total = [H_0, H_12, H_23]\n",
    "    \n",
    "    rho_t = qt.mesolve(H_total, psi_0, time, c_ops=c_ops).states\n",
    "    \n",
    "    return time, np.array(rho_t)\n",
    "\n",
    "def compute_populations(time_max, Gamma, Delta, Omega_max):\n",
    "    \"\"\"Obtain the population for each level after a CTAP.\"\"\"\n",
    "    time, rho_t = solve_dynamics(time_max, Gamma, Delta, Omega_max)\n",
    "    populations = np.diagonal(rho_t, axis1=1, axis2=2).real\n",
    "    return populations[-1]"
   ]
  },
  {
   "cell_type": "code",
   "execution_count": 7,
   "id": "9d3a223e-36f2-4e96-9d36-b9d6d4fbbed1",
   "metadata": {
    "execution": {
     "iopub.execute_input": "2023-03-10T09:28:57.549051Z",
     "iopub.status.busy": "2023-03-10T09:28:57.547955Z",
     "iopub.status.idle": "2023-03-10T09:28:57.560777Z",
     "shell.execute_reply": "2023-03-10T09:28:57.559553Z",
     "shell.execute_reply.started": "2023-03-10T09:28:57.548963Z"
    },
    "tags": []
   },
   "outputs": [],
   "source": [
    "@contextlib.contextmanager\n",
    "def tqdm_joblib(tqdm_object):\n",
    "    \"\"\"Context manager to patch joblib to report into tqdm progress bar.\"\"\"\n",
    "    class TqdmBatchCompletionCallback(parallel.BatchCompletionCallBack):\n",
    "        def __call__(self, *args, **kwargs):\n",
    "            tqdm_object.update(n=self.batch_size)\n",
    "            return super().__call__(*args, **kwargs)\n",
    "\n",
    "    old_batch_callback = parallel.BatchCompletionCallBack\n",
    "    parallel.BatchCompletionCallBack = TqdmBatchCompletionCallback\n",
    "    try:\n",
    "        yield tqdm_object\n",
    "    finally:\n",
    "        parallel.BatchCompletionCallBack = old_batch_callback\n",
    "        tqdm_object.close()"
   ]
  },
  {
   "cell_type": "code",
   "execution_count": 8,
   "id": "0fe5c309-6250-4af4-bde5-8e8e36f03b10",
   "metadata": {
    "execution": {
     "iopub.execute_input": "2023-03-10T09:29:05.840190Z",
     "iopub.status.busy": "2023-03-10T09:29:05.839099Z",
     "iopub.status.idle": "2023-03-10T09:29:05.846152Z",
     "shell.execute_reply": "2023-03-10T09:29:05.845064Z",
     "shell.execute_reply.started": "2023-03-10T09:29:05.840124Z"
    },
    "tags": []
   },
   "outputs": [],
   "source": [
    "# General parameter\n",
    "\n",
    "Delta = 0\n",
    "Omega_max = 1"
   ]
  },
  {
   "cell_type": "code",
   "execution_count": 9,
   "id": "f1ab5779-9c8e-4fb2-87dc-1854252f980a",
   "metadata": {
    "execution": {
     "iopub.execute_input": "2023-03-10T09:31:32.742981Z",
     "iopub.status.busy": "2023-03-10T09:31:32.741915Z",
     "iopub.status.idle": "2023-03-10T09:31:32.752426Z",
     "shell.execute_reply": "2023-03-10T09:31:32.751553Z",
     "shell.execute_reply.started": "2023-03-10T09:31:32.742910Z"
    },
    "tags": []
   },
   "outputs": [],
   "source": [
    "# Define the grid to compute the CTAP\n",
    "\n",
    "n_tmax = 100\n",
    "n_Gamma = 100\n",
    "n_total = n_tmax * n_Gamma\n",
    "\n",
    "tmax_vec = np.linspace(0, 10, n_tmax) * np.pi / Omega_max\n",
    "Gamma_vec = np.linspace(0, 0.5, n_Gamma) * Omega_max\n",
    "\n",
    "tmax_vec, Gamma_vec = [x.flatten() for x in np.meshgrid(tmax_vec, Gamma_vec)]"
   ]
  },
  {
   "cell_type": "code",
   "execution_count": 10,
   "id": "180cc9b2-bdc6-4b49-af26-935f9c11dae8",
   "metadata": {
    "execution": {
     "iopub.execute_input": "2023-03-10T09:32:42.666646Z",
     "iopub.status.busy": "2023-03-10T09:32:42.665468Z",
     "iopub.status.idle": "2023-03-10T09:33:39.380881Z",
     "shell.execute_reply": "2023-03-10T09:33:39.380540Z",
     "shell.execute_reply.started": "2023-03-10T09:32:42.666562Z"
    },
    "tags": []
   },
   "outputs": [
    {
     "data": {
      "application/vnd.jupyter.widget-view+json": {
       "model_id": "f5f4a06e117a44ec8297c43cc50277ea",
       "version_major": 2,
       "version_minor": 0
      },
      "text/plain": [
       "Computing noisy transfer:   0%|          | 0/10000 [00:00<?, ?it/s]"
      ]
     },
     "metadata": {},
     "output_type": "display_data"
    }
   ],
   "source": [
    "# Solve in paralel the transfer\n",
    "\n",
    "with tqdm_joblib(tqdm(range(n_total), desc=\"Computing noisy transfer\")) as pbar:\n",
    "    populations = Parallel(n_jobs=-1)(delayed(compute_populations)(tmax_vec[j], Gamma_vec[j],\n",
    "                                                                   Delta, Omega_max) for j in range(n_total))\n",
    "    \n",
    "populations = np.array(populations).reshape(n_Gamma, n_tmax, 3)"
   ]
  },
  {
   "cell_type": "code",
   "execution_count": 11,
   "id": "be0acf2b-902a-4541-88ef-81ba9cd43ff7",
   "metadata": {
    "execution": {
     "iopub.execute_input": "2023-03-10T09:33:39.382195Z",
     "iopub.status.busy": "2023-03-10T09:33:39.382063Z",
     "iopub.status.idle": "2023-03-10T09:33:39.737657Z",
     "shell.execute_reply": "2023-03-10T09:33:39.737305Z",
     "shell.execute_reply.started": "2023-03-10T09:33:39.382183Z"
    },
    "tags": []
   },
   "outputs": [
    {
     "data": {
      "image/png": "[encoded data removed]",
      "text/plain": [
       "<Figure size 640x480 with 6 Axes>"
      ]
     },
     "metadata": {},
     "output_type": "display_data"
    }
   ],
   "source": [
    "# Plot the results\n",
    "\n",
    "fig, axs = plt.subplots(3, sharex=True, sharey=True)\n",
    "\n",
    "for i in range(3):\n",
    "    im = axs[i].imshow(populations[:, :, i], origin='lower', aspect='auto', vmin=0, vmax=1, cmap='jet',\n",
    "                       extent=[min(tmax_vec) / (np.pi / Omega_max), max(tmax_vec) / (np.pi / Omega_max),\n",
    "                               min(Gamma_vec) / Omega_max, max(Gamma_vec) / Omega_max],\n",
    "                       interpolation='None')\n",
    "    \n",
    "    index = str(i) * 2\n",
    "    cbar = fig.colorbar(im, ax=axs[i])\n",
    "    cbar.ax.set_ylabel(r'$\\rho_{' + f'{index}' + '}$')\n",
    "    \n",
    "axs[2].set_xlabel(r'$t_\\max\\;[\\pi/\\Omega^\\max]$')\n",
    "[ax.set_ylabel(r'$\\Gamma \\; [\\Omega^\\max]$') for ax in axs];"
   ]
  }
 ],
 "metadata": {
  "kernelspec": {
   "display_name": "Python 3 (ipykernel)",
   "language": "python",
   "name": "python3"
  },
  "language_info": {
   "codemirror_mode": {
    "name": "ipython",
    "version": 3
   },
   "file_extension": ".py",
   "mimetype": "text/x-python",
   "name": "python",
   "nbconvert_exporter": "python",
   "pygments_lexer": "ipython3",
   "version": "3.9.15"
  }
 },
 "nbformat": 4,
 "nbformat_minor": 5
}
